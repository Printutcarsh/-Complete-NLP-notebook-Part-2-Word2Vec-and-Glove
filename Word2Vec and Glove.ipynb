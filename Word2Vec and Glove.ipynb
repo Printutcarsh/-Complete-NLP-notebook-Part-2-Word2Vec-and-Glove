{
 "cells": [
  {
   "cell_type": "markdown",
   "metadata": {
    "papermill": {
     "duration": 0.03811,
     "end_time": "2020-12-05T07:31:39.090709",
     "exception": false,
     "start_time": "2020-12-05T07:31:39.052599",
     "status": "completed"
    },
    "tags": []
   },
   "source": [
    "# Introduction\n",
    "This notebook is in continuation of previous notebook of NLP tutorial. As I told previously in my notebook that I will be covering almost all the practical approaches for NLP tasks, so here I will talk about few methods which were left.<br>\n",
    "\n",
    "**In this kernel, I will be focusing on Word2Vec and Glove and will apply it to the same spam message classifier task.**<br>\n",
    "\n",
    "But if you are a beginner to NLP or want to know some different approaches for NLP problems, I would refer you read my previous notebook first and then read this kernel:-\n",
    "<div class=\"row\" align=\"center\">\n",
    "    <div class = \"card\">\n",
    "      <div class = \"card-body\" style = \"width: 20rem; \">\n",
    "        <h5 class = \"card-title\" style = \"font-size: 1.2em;\"align=\"center\">A complete NLP notebook (spam message classifier)</h5>\n",
    "          <img src=\"https://getthematic.com/insights/content/images/wordpress/2018/03/Neuro-linguistic-Programming-650x435-e1522404756134.jpg\" class = \"card_img-top\" style = \"padding: 2% 0;width:19rem;height:10rem;\"  alt=\"...\">\n",
    "        <a href = \"https://github.com/Printutcarsh/Complete-NLP-notebook--spam-message-classifier\" class = \"btn btn-info btn-lg active\"  role = \"button\" style = \"color: white; margin: 0 25% 0 25%\" data-toggle = \"popover\" title = \"Click\">Click here</a>\n",
    "      </div>\n",
    "    </div>\n",
    "  </div>"
   ]
  },
  {
   "cell_type": "markdown",
   "metadata": {
    "papermill": {
     "duration": 0.037547,
     "end_time": "2020-12-05T07:31:39.164298",
     "exception": false,
     "start_time": "2020-12-05T07:31:39.126751",
     "status": "completed"
    },
    "tags": []
   },
   "source": [
    "# Table of Contents\n",
    "* Word Embeddings\n",
    "* Importing Libraries\n",
    "* Reading the data\n",
    "* Data Pre-Processing\n",
    "* Word2Vec\n",
    "* Glove\n",
    "* Summary"
   ]
  },
  {
   "cell_type": "markdown",
   "metadata": {
    "papermill": {
     "duration": 0.03472,
     "end_time": "2020-12-05T07:31:39.235555",
     "exception": false,
     "start_time": "2020-12-05T07:31:39.200835",
     "status": "completed"
    },
    "tags": []
   },
   "source": [
    "# Word Embeddings\n",
    "* A word embedding is a learned representation for text where words that have the same meaning have a similar representation.<br>\n",
    "* It is this approach to representing words and documents that may be considered one of the key breakthroughs of deep learning on challenging natural language processing problems.<br>\n",
    "* Here I will talk about 2 word embedding techniques and that are Word2Vec and Glove.<br>\n",
    "* Word2Vec learns embeddings by relating target words to their context. However, it ignores whether some context words appear more often than others. For Word2Vec, a frequent co-occurrence of words creates more training examples, but it carries no additional information.<br>\n",
    "* In contrast, GloVe stresses that the frequency of co-occurrences is vital information and should not be “wasted ”as additional training examples. Instead, GloVe builds word embeddings in a way that a combination of word vectors relates directly to the probability of these words’ co-occurrence in the corpus."
   ]
  },
  {
   "cell_type": "markdown",
   "metadata": {
    "papermill": {
     "duration": 0.036399,
     "end_time": "2020-12-05T07:31:39.307508",
     "exception": false,
     "start_time": "2020-12-05T07:31:39.271109",
     "status": "completed"
    },
    "tags": []
   },
   "source": [
    "# Importing Libraries"
   ]
  },
  {
   "cell_type": "code",
   "execution_count": 1,
   "metadata": {
    "_cell_guid": "b1076dfc-b9ad-4769-8c92-a6c4dae69d19",
    "_uuid": "8f2839f25d086af736a60e9eeb907d3b93b6e0e5",
    "execution": {
     "iopub.execute_input": "2020-12-05T07:31:39.392658Z",
     "iopub.status.busy": "2020-12-05T07:31:39.391805Z",
     "iopub.status.idle": "2020-12-05T07:31:46.581801Z",
     "shell.execute_reply": "2020-12-05T07:31:46.580633Z"
    },
    "papermill": {
     "duration": 7.238919,
     "end_time": "2020-12-05T07:31:46.581935",
     "exception": false,
     "start_time": "2020-12-05T07:31:39.343016",
     "status": "completed"
    },
    "tags": []
   },
   "outputs": [],
   "source": [
    "import numpy as np\n",
    "import pandas as pd \n",
    "import re\n",
    "import nltk\n",
    "from nltk.corpus import stopwords\n",
    "from nltk.stem.porter import PorterStemmer\n",
    "import matplotlib.pyplot as plt\n",
    "%matplotlib inline\n",
    "import gensim\n",
    "from gensim.models import Word2Vec\n",
    "from sklearn.model_selection import train_test_split\n",
    "\n",
    "from keras.preprocessing.text import Tokenizer\n",
    "from keras.preprocessing.sequence import pad_sequences\n",
    "from keras.models import Sequential\n",
    "from keras.layers import Dense, Embedding, LSTM, Flatten, Dropout, SimpleRNN, Bidirectional\n",
    "from keras.optimizers import Adam"
   ]
  },
  {
   "cell_type": "markdown",
   "metadata": {
    "papermill": {
     "duration": 0.035646,
     "end_time": "2020-12-05T07:31:46.654008",
     "exception": false,
     "start_time": "2020-12-05T07:31:46.618362",
     "status": "completed"
    },
    "tags": []
   },
   "source": [
    "# Reading the data"
   ]
  },
  {
   "cell_type": "code",
   "execution_count": 2,
   "metadata": {
    "_cell_guid": "79c7e3d0-c299-4dcb-8224-4455121ee9b0",
    "_uuid": "d629ff2d2480ee46fbb7e2d37f6b5fab8052498a",
    "execution": {
     "iopub.execute_input": "2020-12-05T07:31:46.742712Z",
     "iopub.status.busy": "2020-12-05T07:31:46.742065Z",
     "iopub.status.idle": "2020-12-05T07:31:46.787834Z",
     "shell.execute_reply": "2020-12-05T07:31:46.787186Z"
    },
    "papermill": {
     "duration": 0.098114,
     "end_time": "2020-12-05T07:31:46.787971",
     "exception": false,
     "start_time": "2020-12-05T07:31:46.689857",
     "status": "completed"
    },
    "tags": []
   },
   "outputs": [
    {
     "data": {
      "text/html": [
       "<div>\n",
       "<style scoped>\n",
       "    .dataframe tbody tr th:only-of-type {\n",
       "        vertical-align: middle;\n",
       "    }\n",
       "\n",
       "    .dataframe tbody tr th {\n",
       "        vertical-align: top;\n",
       "    }\n",
       "\n",
       "    .dataframe thead th {\n",
       "        text-align: right;\n",
       "    }\n",
       "</style>\n",
       "<table border=\"1\" class=\"dataframe\">\n",
       "  <thead>\n",
       "    <tr style=\"text-align: right;\">\n",
       "      <th></th>\n",
       "      <th>Category</th>\n",
       "      <th>Message</th>\n",
       "    </tr>\n",
       "  </thead>\n",
       "  <tbody>\n",
       "    <tr>\n",
       "      <th>0</th>\n",
       "      <td>ham</td>\n",
       "      <td>Go until jurong point, crazy.. Available only ...</td>\n",
       "    </tr>\n",
       "    <tr>\n",
       "      <th>1</th>\n",
       "      <td>ham</td>\n",
       "      <td>Ok lar... Joking wif u oni...</td>\n",
       "    </tr>\n",
       "    <tr>\n",
       "      <th>2</th>\n",
       "      <td>spam</td>\n",
       "      <td>Free entry in 2 a wkly comp to win FA Cup fina...</td>\n",
       "    </tr>\n",
       "    <tr>\n",
       "      <th>3</th>\n",
       "      <td>ham</td>\n",
       "      <td>U dun say so early hor... U c already then say...</td>\n",
       "    </tr>\n",
       "    <tr>\n",
       "      <th>4</th>\n",
       "      <td>ham</td>\n",
       "      <td>Nah I don't think he goes to usf, he lives aro...</td>\n",
       "    </tr>\n",
       "  </tbody>\n",
       "</table>\n",
       "</div>"
      ],
      "text/plain": [
       "  Category                                            Message\n",
       "0      ham  Go until jurong point, crazy.. Available only ...\n",
       "1      ham                      Ok lar... Joking wif u oni...\n",
       "2     spam  Free entry in 2 a wkly comp to win FA Cup fina...\n",
       "3      ham  U dun say so early hor... U c already then say...\n",
       "4      ham  Nah I don't think he goes to usf, he lives aro..."
      ]
     },
     "execution_count": 2,
     "metadata": {},
     "output_type": "execute_result"
    }
   ],
   "source": [
    "df = pd.read_csv('spam-text-message-classification/SPAM text message 20170820 - Data.csv')\n",
    "df.head()"
   ]
  },
  {
   "cell_type": "code",
   "execution_count": 3,
   "metadata": {
    "execution": {
     "iopub.execute_input": "2020-12-05T07:31:46.876271Z",
     "iopub.status.busy": "2020-12-05T07:31:46.875402Z",
     "iopub.status.idle": "2020-12-05T07:31:46.879241Z",
     "shell.execute_reply": "2020-12-05T07:31:46.879734Z"
    },
    "papermill": {
     "duration": 0.054303,
     "end_time": "2020-12-05T07:31:46.879860",
     "exception": false,
     "start_time": "2020-12-05T07:31:46.825557",
     "status": "completed"
    },
    "tags": []
   },
   "outputs": [
    {
     "name": "stdout",
     "output_type": "stream",
     "text": [
      "<class 'pandas.core.frame.DataFrame'>\n",
      "RangeIndex: 5572 entries, 0 to 5571\n",
      "Data columns (total 2 columns):\n",
      " #   Column    Non-Null Count  Dtype \n",
      "---  ------    --------------  ----- \n",
      " 0   Category  5572 non-null   object\n",
      " 1   Message   5572 non-null   object\n",
      "dtypes: object(2)\n",
      "memory usage: 87.2+ KB\n"
     ]
    }
   ],
   "source": [
    "df.info()"
   ]
  },
  {
   "cell_type": "markdown",
   "metadata": {
    "papermill": {
     "duration": 0.036726,
     "end_time": "2020-12-05T07:31:46.954049",
     "exception": false,
     "start_time": "2020-12-05T07:31:46.917323",
     "status": "completed"
    },
    "tags": []
   },
   "source": [
    "# Data Pre-Processing"
   ]
  },
  {
   "cell_type": "markdown",
   "metadata": {
    "papermill": {
     "duration": 0.055416,
     "end_time": "2020-12-05T07:31:47.062878",
     "exception": false,
     "start_time": "2020-12-05T07:31:47.007462",
     "status": "completed"
    },
    "tags": []
   },
   "source": [
    "For EDA of this dataset [click here](https://github.com/Printutcarsh/Complete-NLP-notebook--spam-message-classifier)"
   ]
  },
  {
   "cell_type": "markdown",
   "metadata": {
    "papermill": {
     "duration": 0.056346,
     "end_time": "2020-12-05T07:31:47.175820",
     "exception": false,
     "start_time": "2020-12-05T07:31:47.119474",
     "status": "completed"
    },
    "tags": []
   },
   "source": [
    "### Data Cleaning"
   ]
  },
  {
   "cell_type": "code",
   "execution_count": 4,
   "metadata": {
    "execution": {
     "iopub.execute_input": "2020-12-05T07:31:47.292907Z",
     "iopub.status.busy": "2020-12-05T07:31:47.291980Z",
     "iopub.status.idle": "2020-12-05T07:31:47.295971Z",
     "shell.execute_reply": "2020-12-05T07:31:47.296674Z"
    },
    "papermill": {
     "duration": 0.065939,
     "end_time": "2020-12-05T07:31:47.296852",
     "exception": false,
     "start_time": "2020-12-05T07:31:47.230913",
     "status": "completed"
    },
    "tags": []
   },
   "outputs": [],
   "source": [
    "def clean(text):\n",
    "    text = re.sub('[^a-zA-Z]', ' ', text).lower().split()\n",
    "    return text"
   ]
  },
  {
   "cell_type": "code",
   "execution_count": 5,
   "metadata": {
    "execution": {
     "iopub.execute_input": "2020-12-05T07:31:47.416313Z",
     "iopub.status.busy": "2020-12-05T07:31:47.415446Z",
     "iopub.status.idle": "2020-12-05T07:31:47.522750Z",
     "shell.execute_reply": "2020-12-05T07:31:47.523617Z"
    },
    "papermill": {
     "duration": 0.173837,
     "end_time": "2020-12-05T07:31:47.523795",
     "exception": false,
     "start_time": "2020-12-05T07:31:47.349958",
     "status": "completed"
    },
    "tags": []
   },
   "outputs": [],
   "source": [
    "df['Message'] = df['Message'].apply(lambda x : clean(x))"
   ]
  },
  {
   "cell_type": "code",
   "execution_count": 6,
   "metadata": {
    "execution": {
     "iopub.execute_input": "2020-12-05T07:31:47.657023Z",
     "iopub.status.busy": "2020-12-05T07:31:47.655946Z",
     "iopub.status.idle": "2020-12-05T07:31:47.658170Z",
     "shell.execute_reply": "2020-12-05T07:31:47.657672Z"
    },
    "papermill": {
     "duration": 0.064115,
     "end_time": "2020-12-05T07:31:47.658267",
     "exception": false,
     "start_time": "2020-12-05T07:31:47.594152",
     "status": "completed"
    },
    "tags": []
   },
   "outputs": [],
   "source": [
    "def remove(text):\n",
    "    text = [word for word in text if word not in stopwords.words('english')]\n",
    "    text = ' '.join(text)\n",
    "    return text"
   ]
  },
  {
   "cell_type": "code",
   "execution_count": 7,
   "metadata": {
    "execution": {
     "iopub.execute_input": "2020-12-05T07:31:47.742720Z",
     "iopub.status.busy": "2020-12-05T07:31:47.741918Z",
     "iopub.status.idle": "2020-12-05T07:31:59.893128Z",
     "shell.execute_reply": "2020-12-05T07:31:59.891955Z"
    },
    "papermill": {
     "duration": 12.19427,
     "end_time": "2020-12-05T07:31:59.893252",
     "exception": false,
     "start_time": "2020-12-05T07:31:47.698982",
     "status": "completed"
    },
    "tags": []
   },
   "outputs": [],
   "source": [
    "df['Message'] = df['Message'].apply(lambda x : remove(x))"
   ]
  },
  {
   "cell_type": "code",
   "execution_count": 8,
   "metadata": {
    "execution": {
     "iopub.execute_input": "2020-12-05T07:31:59.974154Z",
     "iopub.status.busy": "2020-12-05T07:31:59.973183Z",
     "iopub.status.idle": "2020-12-05T07:31:59.977782Z",
     "shell.execute_reply": "2020-12-05T07:31:59.977210Z"
    },
    "papermill": {
     "duration": 0.046821,
     "end_time": "2020-12-05T07:31:59.977880",
     "exception": false,
     "start_time": "2020-12-05T07:31:59.931059",
     "status": "completed"
    },
    "tags": []
   },
   "outputs": [],
   "source": [
    "y = pd.get_dummies(df['Category'])\n",
    "y=y.iloc[:,1].values"
   ]
  },
  {
   "cell_type": "code",
   "execution_count": 9,
   "metadata": {
    "execution": {
     "iopub.execute_input": "2020-12-05T07:32:00.058782Z",
     "iopub.status.busy": "2020-12-05T07:32:00.057820Z",
     "iopub.status.idle": "2020-12-05T07:32:00.060124Z",
     "shell.execute_reply": "2020-12-05T07:32:00.060709Z"
    },
    "papermill": {
     "duration": 0.04478,
     "end_time": "2020-12-05T07:32:00.060836",
     "exception": false,
     "start_time": "2020-12-05T07:32:00.016056",
     "status": "completed"
    },
    "tags": []
   },
   "outputs": [],
   "source": [
    "X = df['Message'].values"
   ]
  },
  {
   "cell_type": "markdown",
   "metadata": {
    "papermill": {
     "duration": 0.036281,
     "end_time": "2020-12-05T07:32:00.134823",
     "exception": false,
     "start_time": "2020-12-05T07:32:00.098542",
     "status": "completed"
    },
    "tags": []
   },
   "source": [
    "### Tranform text to vectors"
   ]
  },
  {
   "cell_type": "code",
   "execution_count": 10,
   "metadata": {
    "execution": {
     "iopub.execute_input": "2020-12-05T07:32:00.252738Z",
     "iopub.status.busy": "2020-12-05T07:32:00.232251Z",
     "iopub.status.idle": "2020-12-05T07:32:00.410822Z",
     "shell.execute_reply": "2020-12-05T07:32:00.410258Z"
    },
    "papermill": {
     "duration": 0.235605,
     "end_time": "2020-12-05T07:32:00.410932",
     "exception": false,
     "start_time": "2020-12-05T07:32:00.175327",
     "status": "completed"
    },
    "tags": []
   },
   "outputs": [],
   "source": [
    "tokenizer_obj = Tokenizer(7641)\n",
    "tokenizer_obj.fit_on_texts(X)\n",
    "sequences = tokenizer_obj.texts_to_sequences(X)"
   ]
  },
  {
   "cell_type": "code",
   "execution_count": 11,
   "metadata": {
    "execution": {
     "iopub.execute_input": "2020-12-05T07:32:00.491161Z",
     "iopub.status.busy": "2020-12-05T07:32:00.490301Z",
     "iopub.status.idle": "2020-12-05T07:32:00.492757Z",
     "shell.execute_reply": "2020-12-05T07:32:00.493223Z"
    },
    "papermill": {
     "duration": 0.043898,
     "end_time": "2020-12-05T07:32:00.493341",
     "exception": false,
     "start_time": "2020-12-05T07:32:00.449443",
     "status": "completed"
    },
    "tags": []
   },
   "outputs": [],
   "source": [
    "word_index = tokenizer_obj.word_index"
   ]
  },
  {
   "cell_type": "code",
   "execution_count": 12,
   "metadata": {
    "execution": {
     "iopub.execute_input": "2020-12-05T07:32:00.575533Z",
     "iopub.status.busy": "2020-12-05T07:32:00.574596Z",
     "iopub.status.idle": "2020-12-05T07:32:00.579492Z",
     "shell.execute_reply": "2020-12-05T07:32:00.580325Z"
    },
    "papermill": {
     "duration": 0.048792,
     "end_time": "2020-12-05T07:32:00.580503",
     "exception": false,
     "start_time": "2020-12-05T07:32:00.531711",
     "status": "completed"
    },
    "tags": []
   },
   "outputs": [
    {
     "name": "stdout",
     "output_type": "stream",
     "text": [
      "unique tokens - 7641\n",
      "vocab_size - 7642\n"
     ]
    }
   ],
   "source": [
    "print(\"unique tokens -\", len(word_index))\n",
    "vocab_size = len(tokenizer_obj.word_index) + 1 #+1 for unknown word\n",
    "print('vocab_size -', vocab_size)"
   ]
  },
  {
   "cell_type": "markdown",
   "metadata": {
    "papermill": {
     "duration": 0.048262,
     "end_time": "2020-12-05T07:32:00.667234",
     "exception": false,
     "start_time": "2020-12-05T07:32:00.618972",
     "status": "completed"
    },
    "tags": []
   },
   "source": [
    "### Padding"
   ]
  },
  {
   "cell_type": "code",
   "execution_count": 13,
   "metadata": {
    "execution": {
     "iopub.execute_input": "2020-12-05T07:32:00.752274Z",
     "iopub.status.busy": "2020-12-05T07:32:00.751346Z",
     "iopub.status.idle": "2020-12-05T07:32:00.803691Z",
     "shell.execute_reply": "2020-12-05T07:32:00.803054Z"
    },
    "papermill": {
     "duration": 0.097073,
     "end_time": "2020-12-05T07:32:00.803814",
     "exception": false,
     "start_time": "2020-12-05T07:32:00.706741",
     "status": "completed"
    },
    "tags": []
   },
   "outputs": [],
   "source": [
    "max_len = len(X.max())\n",
    "lines_pad = pad_sequences(sequences, maxlen = max_len, padding='post')"
   ]
  },
  {
   "cell_type": "markdown",
   "metadata": {
    "papermill": {
     "duration": 0.040704,
     "end_time": "2020-12-05T07:32:00.889120",
     "exception": false,
     "start_time": "2020-12-05T07:32:00.848416",
     "status": "completed"
    },
    "tags": []
   },
   "source": [
    "### Splitting the data"
   ]
  },
  {
   "cell_type": "code",
   "execution_count": 14,
   "metadata": {
    "execution": {
     "iopub.execute_input": "2020-12-05T07:32:00.987171Z",
     "iopub.status.busy": "2020-12-05T07:32:00.986184Z",
     "iopub.status.idle": "2020-12-05T07:32:00.990432Z",
     "shell.execute_reply": "2020-12-05T07:32:00.990919Z"
    },
    "papermill": {
     "duration": 0.055896,
     "end_time": "2020-12-05T07:32:00.991062",
     "exception": false,
     "start_time": "2020-12-05T07:32:00.935166",
     "status": "completed"
    },
    "tags": []
   },
   "outputs": [],
   "source": [
    "X_train, X_test, y_train, y_test = train_test_split(lines_pad, y, test_size = 0.20, random_state=3) "
   ]
  },
  {
   "cell_type": "markdown",
   "metadata": {
    "papermill": {
     "duration": 0.039539,
     "end_time": "2020-12-05T07:32:01.069492",
     "exception": false,
     "start_time": "2020-12-05T07:32:01.029953",
     "status": "completed"
    },
    "tags": []
   },
   "source": [
    "# Word2Vec\n",
    "Now, we will talk about the main topics. As you know, whenever we create our model for NLP task, we first create a embedding layer and we train that embedding layer also. But here we will use pre-trained embedding layer and will see how it performs. So first, lets see about pre-trained Word2Vec."
   ]
  },
  {
   "cell_type": "code",
   "execution_count": 15,
   "metadata": {
    "execution": {
     "iopub.execute_input": "2020-12-05T07:32:01.153982Z",
     "iopub.status.busy": "2020-12-05T07:32:01.153214Z",
     "iopub.status.idle": "2020-12-05T07:33:04.943697Z",
     "shell.execute_reply": "2020-12-05T07:33:04.942828Z"
    },
    "papermill": {
     "duration": 63.836077,
     "end_time": "2020-12-05T07:33:04.943814",
     "exception": false,
     "start_time": "2020-12-05T07:32:01.107737",
     "status": "completed"
    },
    "tags": []
   },
   "outputs": [],
   "source": [
    "wordembeddings = gensim.models.KeyedVectors.load_word2vec_format('googles-trained-word2vec-model-in-python/GoogleNews-vectors-negative300.bin', binary = True)"
   ]
  },
  {
   "cell_type": "markdown",
   "metadata": {
    "papermill": {
     "duration": 0.038807,
     "end_time": "2020-12-05T07:33:05.021881",
     "exception": false,
     "start_time": "2020-12-05T07:33:04.983074",
     "status": "completed"
    },
    "tags": []
   },
   "source": [
    "After importing the pre-trained model, we will create our embedding matrix and for that we will first initialize our matrix with zeros. Then, we will match our "
   ]
  },
  {
   "cell_type": "code",
   "execution_count": 16,
   "metadata": {
    "execution": {
     "iopub.execute_input": "2020-12-05T07:33:05.108717Z",
     "iopub.status.busy": "2020-12-05T07:33:05.107560Z",
     "iopub.status.idle": "2020-12-05T07:33:05.150681Z",
     "shell.execute_reply": "2020-12-05T07:33:05.150099Z"
    },
    "papermill": {
     "duration": 0.09014,
     "end_time": "2020-12-05T07:33:05.150803",
     "exception": false,
     "start_time": "2020-12-05T07:33:05.060663",
     "status": "completed"
    },
    "tags": []
   },
   "outputs": [
    {
     "name": "stdout",
     "output_type": "stream",
     "text": [
      "7641\n"
     ]
    }
   ],
   "source": [
    "embedding_dim = 300\n",
    "c=0\n",
    "embedding_matrix = np.zeros((vocab_size, embedding_dim))\n",
    "for word, i in word_index.items():\n",
    "    try:\n",
    "        embedding_vector = wordembeddings[word]\n",
    "    except:\n",
    "        pass\n",
    "    if embedding_vector is not None:\n",
    "        c=c+1\n",
    "        embedding_matrix[i] = embedding_vector     \n",
    "print(c)"
   ]
  },
  {
   "cell_type": "markdown",
   "metadata": {
    "papermill": {
     "duration": 0.040178,
     "end_time": "2020-12-05T07:33:05.233091",
     "exception": false,
     "start_time": "2020-12-05T07:33:05.192913",
     "status": "completed"
    },
    "tags": []
   },
   "source": [
    "Next, we will use that matrix and create our embedding layer and we will set trainable=False as we don't have to train this layer. "
   ]
  },
  {
   "cell_type": "code",
   "execution_count": 17,
   "metadata": {
    "execution": {
     "iopub.execute_input": "2020-12-05T07:33:05.317426Z",
     "iopub.status.busy": "2020-12-05T07:33:05.316763Z",
     "iopub.status.idle": "2020-12-05T07:33:05.331947Z",
     "shell.execute_reply": "2020-12-05T07:33:05.330907Z"
    },
    "papermill": {
     "duration": 0.059081,
     "end_time": "2020-12-05T07:33:05.332101",
     "exception": false,
     "start_time": "2020-12-05T07:33:05.273020",
     "status": "completed"
    },
    "tags": []
   },
   "outputs": [],
   "source": [
    "embedding_layer = Embedding(vocab_size,\n",
    "                            embedding_dim,\n",
    "                            weights=[embedding_matrix],\n",
    "                            input_length = max_len,\n",
    "                            trainable=False)"
   ]
  },
  {
   "cell_type": "markdown",
   "metadata": {
    "papermill": {
     "duration": 0.040279,
     "end_time": "2020-12-05T07:33:05.413082",
     "exception": false,
     "start_time": "2020-12-05T07:33:05.372803",
     "status": "completed"
    },
    "tags": []
   },
   "source": [
    "Now, here I will be using Bidirectional LSTM model as we saw previously that this was giving the best result and we will use this embedding layer that we have created."
   ]
  },
  {
   "cell_type": "code",
   "execution_count": 18,
   "metadata": {
    "execution": {
     "iopub.execute_input": "2020-12-05T07:33:06.340583Z",
     "iopub.status.busy": "2020-12-05T07:33:06.336611Z",
     "iopub.status.idle": "2020-12-05T07:33:09.377637Z",
     "shell.execute_reply": "2020-12-05T07:33:09.377074Z"
    },
    "papermill": {
     "duration": 3.924268,
     "end_time": "2020-12-05T07:33:09.377753",
     "exception": false,
     "start_time": "2020-12-05T07:33:05.453485",
     "status": "completed"
    },
    "tags": []
   },
   "outputs": [],
   "source": [
    "model = Sequential()\n",
    "model.add(embedding_layer)\n",
    "model.add(Dropout(0.2))\n",
    "model.add(Bidirectional(LSTM(100, return_sequences = True)))\n",
    "model.add(Dropout(0.2))\n",
    "model.add(Bidirectional(LSTM(100, return_sequences = True)))\n",
    "model.add(Dense(1024, activation='relu'))\n",
    "model.add(Dropout(0.2))\n",
    "model.add(Dense(1024, activation='relu'))\n",
    "model.add(Dropout(0.2))\n",
    "model.add(Dense(1, activation='sigmoid'))"
   ]
  },
  {
   "cell_type": "code",
   "execution_count": 19,
   "metadata": {
    "execution": {
     "iopub.execute_input": "2020-12-05T07:33:09.468261Z",
     "iopub.status.busy": "2020-12-05T07:33:09.462517Z",
     "iopub.status.idle": "2020-12-05T07:33:09.474032Z",
     "shell.execute_reply": "2020-12-05T07:33:09.474841Z"
    },
    "papermill": {
     "duration": 0.057164,
     "end_time": "2020-12-05T07:33:09.475052",
     "exception": false,
     "start_time": "2020-12-05T07:33:09.417888",
     "status": "completed"
    },
    "tags": []
   },
   "outputs": [
    {
     "name": "stdout",
     "output_type": "stream",
     "text": [
      "Model: \"sequential\"\n",
      "_________________________________________________________________\n",
      "Layer (type)                 Output Shape              Param #   \n",
      "=================================================================\n",
      "embedding (Embedding)        (None, 77, 300)           2292600   \n",
      "_________________________________________________________________\n",
      "dropout (Dropout)            (None, 77, 300)           0         \n",
      "_________________________________________________________________\n",
      "bidirectional (Bidirectional (None, 77, 200)           320800    \n",
      "_________________________________________________________________\n",
      "dropout_1 (Dropout)          (None, 77, 200)           0         \n",
      "_________________________________________________________________\n",
      "bidirectional_1 (Bidirection (None, 77, 200)           240800    \n",
      "_________________________________________________________________\n",
      "dense (Dense)                (None, 77, 1024)          205824    \n",
      "_________________________________________________________________\n",
      "dropout_2 (Dropout)          (None, 77, 1024)          0         \n",
      "_________________________________________________________________\n",
      "dense_1 (Dense)              (None, 77, 1024)          1049600   \n",
      "_________________________________________________________________\n",
      "dropout_3 (Dropout)          (None, 77, 1024)          0         \n",
      "_________________________________________________________________\n",
      "dense_2 (Dense)              (None, 77, 1)             1025      \n",
      "=================================================================\n",
      "Total params: 4,110,649\n",
      "Trainable params: 1,818,049\n",
      "Non-trainable params: 2,292,600\n",
      "_________________________________________________________________\n"
     ]
    }
   ],
   "source": [
    "model.summary()"
   ]
  },
  {
   "cell_type": "markdown",
   "metadata": {
    "papermill": {
     "duration": 0.040981,
     "end_time": "2020-12-05T07:33:09.559790",
     "exception": false,
     "start_time": "2020-12-05T07:33:09.518809",
     "status": "completed"
    },
    "tags": []
   },
   "source": [
    "Here you can also oberve that there are non-trainable parameters also."
   ]
  },
  {
   "cell_type": "code",
   "execution_count": 20,
   "metadata": {
    "execution": {
     "iopub.execute_input": "2020-12-05T07:33:09.656499Z",
     "iopub.status.busy": "2020-12-05T07:33:09.655532Z",
     "iopub.status.idle": "2020-12-05T07:33:09.663102Z",
     "shell.execute_reply": "2020-12-05T07:33:09.663547Z"
    },
    "papermill": {
     "duration": 0.06225,
     "end_time": "2020-12-05T07:33:09.663683",
     "exception": false,
     "start_time": "2020-12-05T07:33:09.601433",
     "status": "completed"
    },
    "tags": []
   },
   "outputs": [],
   "source": [
    "model.compile(optimizer='Adam', loss = 'binary_crossentropy', metrics=['acc'])"
   ]
  },
  {
   "cell_type": "code",
   "execution_count": 21,
   "metadata": {
    "execution": {
     "iopub.execute_input": "2020-12-05T07:33:09.751856Z",
     "iopub.status.busy": "2020-12-05T07:33:09.751152Z",
     "iopub.status.idle": "2020-12-05T07:33:59.638466Z",
     "shell.execute_reply": "2020-12-05T07:33:59.637901Z"
    },
    "papermill": {
     "duration": 49.934414,
     "end_time": "2020-12-05T07:33:59.638582",
     "exception": false,
     "start_time": "2020-12-05T07:33:09.704168",
     "status": "completed"
    },
    "tags": []
   },
   "outputs": [
    {
     "name": "stdout",
     "output_type": "stream",
     "text": [
      "Epoch 1/10\n",
      "140/140 [==============================] - 5s 38ms/step - loss: 0.1965 - acc: 0.9432 - val_loss: 0.1875 - val_acc: 0.9296\n",
      "Epoch 2/10\n",
      "140/140 [==============================] - 4s 27ms/step - loss: 0.1017 - acc: 0.9731 - val_loss: 0.0925 - val_acc: 0.9713\n",
      "Epoch 3/10\n",
      "140/140 [==============================] - 4s 27ms/step - loss: 0.0868 - acc: 0.9775 - val_loss: 0.0924 - val_acc: 0.9757\n",
      "Epoch 4/10\n",
      "140/140 [==============================] - 4s 28ms/step - loss: 0.1004 - acc: 0.9745 - val_loss: 0.0800 - val_acc: 0.9750\n",
      "Epoch 5/10\n",
      "140/140 [==============================] - 4s 27ms/step - loss: 0.0649 - acc: 0.9829 - val_loss: 0.0890 - val_acc: 0.9703\n",
      "Epoch 6/10\n",
      "140/140 [==============================] - 4s 27ms/step - loss: 0.0669 - acc: 0.9818 - val_loss: 0.0689 - val_acc: 0.9847\n",
      "Epoch 7/10\n",
      "140/140 [==============================] - 5s 35ms/step - loss: 0.0837 - acc: 0.9843 - val_loss: 0.0861 - val_acc: 0.9822\n",
      "Epoch 8/10\n",
      "140/140 [==============================] - 4s 28ms/step - loss: 0.1066 - acc: 0.9767 - val_loss: 0.2382 - val_acc: 0.9012\n",
      "Epoch 9/10\n",
      "140/140 [==============================] - 4s 28ms/step - loss: 0.0951 - acc: 0.9737 - val_loss: 0.0707 - val_acc: 0.9751\n",
      "Epoch 10/10\n",
      "140/140 [==============================] - 4s 27ms/step - loss: 0.0658 - acc: 0.9859 - val_loss: 0.1125 - val_acc: 0.9747\n"
     ]
    },
    {
     "data": {
      "text/plain": [
       "<tensorflow.python.keras.callbacks.History at 0x7fe858638cd0>"
      ]
     },
     "execution_count": 21,
     "metadata": {},
     "output_type": "execute_result"
    }
   ],
   "source": [
    "model.fit(X_train, y_train, validation_data=(X_test, y_test), epochs=10, batch_size=32)"
   ]
  },
  {
   "cell_type": "markdown",
   "metadata": {
    "papermill": {
     "duration": 0.228909,
     "end_time": "2020-12-05T07:34:00.096959",
     "exception": false,
     "start_time": "2020-12-05T07:33:59.868050",
     "status": "completed"
    },
    "tags": []
   },
   "source": [
    "# Train Word2Vec\n",
    "Although pre-trained Word2Vec gives a very good result, but one of the problem is that you have to download a huge file and then you can run this. Instead of this, we can create our own Word2Vec embedding layer and we can do so by importing Word2Vec from gensim.models."
   ]
  },
  {
   "cell_type": "markdown",
   "metadata": {
    "papermill": {
     "duration": 0.22778,
     "end_time": "2020-12-05T07:34:00.553306",
     "exception": false,
     "start_time": "2020-12-05T07:34:00.325526",
     "status": "completed"
    },
    "tags": []
   },
   "source": [
    "First, we will create a list of the words which are present in the dataset. Then we will apply Word2Vec on that list."
   ]
  },
  {
   "cell_type": "code",
   "execution_count": 22,
   "metadata": {
    "execution": {
     "iopub.execute_input": "2020-12-05T07:34:01.058896Z",
     "iopub.status.busy": "2020-12-05T07:34:01.058083Z",
     "iopub.status.idle": "2020-12-05T07:34:04.324491Z",
     "shell.execute_reply": "2020-12-05T07:34:04.322769Z"
    },
    "papermill": {
     "duration": 3.511982,
     "end_time": "2020-12-05T07:34:04.324629",
     "exception": false,
     "start_time": "2020-12-05T07:34:00.812647",
     "status": "completed"
    },
    "tags": []
   },
   "outputs": [],
   "source": [
    "mes = []\n",
    "for i in df['Message']:\n",
    "    mes.append(i.split())\n",
    "word_2_vec = Word2Vec(mes, size=100, window=3, min_count=1, workers=16)"
   ]
  },
  {
   "cell_type": "markdown",
   "metadata": {
    "papermill": {
     "duration": 0.236912,
     "end_time": "2020-12-05T07:34:04.803315",
     "exception": false,
     "start_time": "2020-12-05T07:34:04.566403",
     "status": "completed"
    },
    "tags": []
   },
   "source": [
    "Afterthat, we will again use the same model but here to get embedding layer we use a different method and here we will train this embedding layer also."
   ]
  },
  {
   "cell_type": "code",
   "execution_count": 23,
   "metadata": {
    "execution": {
     "iopub.execute_input": "2020-12-05T07:34:05.282594Z",
     "iopub.status.busy": "2020-12-05T07:34:05.281570Z",
     "iopub.status.idle": "2020-12-05T07:34:06.517750Z",
     "shell.execute_reply": "2020-12-05T07:34:06.516960Z"
    },
    "papermill": {
     "duration": 1.484532,
     "end_time": "2020-12-05T07:34:06.517887",
     "exception": false,
     "start_time": "2020-12-05T07:34:05.033355",
     "status": "completed"
    },
    "tags": []
   },
   "outputs": [],
   "source": [
    "model2 = Sequential()\n",
    "model2.add(word_2_vec.wv.get_keras_embedding(True))\n",
    "model2.add(Dropout(0.2))\n",
    "model2.add(Bidirectional(LSTM(100, return_sequences = True)))\n",
    "model2.add(Dropout(0.2))\n",
    "model2.add(Bidirectional(LSTM(100, return_sequences = True)))\n",
    "model2.add(Dense(1024, activation='relu'))\n",
    "model2.add(Dropout(0.2))\n",
    "model2.add(Dense(1024, activation='relu'))\n",
    "model2.add(Dropout(0.2))\n",
    "model2.add(Dense(1, activation='sigmoid'))"
   ]
  },
  {
   "cell_type": "code",
   "execution_count": 24,
   "metadata": {
    "execution": {
     "iopub.execute_input": "2020-12-05T07:34:07.035743Z",
     "iopub.status.busy": "2020-12-05T07:34:07.034146Z",
     "iopub.status.idle": "2020-12-05T07:34:07.049705Z",
     "shell.execute_reply": "2020-12-05T07:34:07.049206Z"
    },
    "papermill": {
     "duration": 0.273884,
     "end_time": "2020-12-05T07:34:07.049814",
     "exception": false,
     "start_time": "2020-12-05T07:34:06.775930",
     "status": "completed"
    },
    "tags": []
   },
   "outputs": [
    {
     "name": "stdout",
     "output_type": "stream",
     "text": [
      "Model: \"sequential_1\"\n",
      "_________________________________________________________________\n",
      "Layer (type)                 Output Shape              Param #   \n",
      "=================================================================\n",
      "embedding_1 (Embedding)      (None, None, 100)         764100    \n",
      "_________________________________________________________________\n",
      "dropout_4 (Dropout)          (None, None, 100)         0         \n",
      "_________________________________________________________________\n",
      "bidirectional_2 (Bidirection (None, None, 200)         160800    \n",
      "_________________________________________________________________\n",
      "dropout_5 (Dropout)          (None, None, 200)         0         \n",
      "_________________________________________________________________\n",
      "bidirectional_3 (Bidirection (None, None, 200)         240800    \n",
      "_________________________________________________________________\n",
      "dense_3 (Dense)              (None, None, 1024)        205824    \n",
      "_________________________________________________________________\n",
      "dropout_6 (Dropout)          (None, None, 1024)        0         \n",
      "_________________________________________________________________\n",
      "dense_4 (Dense)              (None, None, 1024)        1049600   \n",
      "_________________________________________________________________\n",
      "dropout_7 (Dropout)          (None, None, 1024)        0         \n",
      "_________________________________________________________________\n",
      "dense_5 (Dense)              (None, None, 1)           1025      \n",
      "=================================================================\n",
      "Total params: 2,422,149\n",
      "Trainable params: 2,422,149\n",
      "Non-trainable params: 0\n",
      "_________________________________________________________________\n"
     ]
    }
   ],
   "source": [
    "model2.summary()"
   ]
  },
  {
   "cell_type": "code",
   "execution_count": 25,
   "metadata": {
    "execution": {
     "iopub.execute_input": "2020-12-05T07:34:07.542245Z",
     "iopub.status.busy": "2020-12-05T07:34:07.541132Z",
     "iopub.status.idle": "2020-12-05T07:34:07.547247Z",
     "shell.execute_reply": "2020-12-05T07:34:07.546739Z"
    },
    "papermill": {
     "duration": 0.254533,
     "end_time": "2020-12-05T07:34:07.547348",
     "exception": false,
     "start_time": "2020-12-05T07:34:07.292815",
     "status": "completed"
    },
    "tags": []
   },
   "outputs": [],
   "source": [
    "model2.compile(optimizer='Adam', loss = 'binary_crossentropy', metrics=['acc'])"
   ]
  },
  {
   "cell_type": "code",
   "execution_count": 26,
   "metadata": {
    "execution": {
     "iopub.execute_input": "2020-12-05T07:34:08.027354Z",
     "iopub.status.busy": "2020-12-05T07:34:08.026310Z",
     "iopub.status.idle": "2020-12-05T07:35:05.304165Z",
     "shell.execute_reply": "2020-12-05T07:35:05.303646Z"
    },
    "papermill": {
     "duration": 57.518662,
     "end_time": "2020-12-05T07:35:05.304270",
     "exception": false,
     "start_time": "2020-12-05T07:34:07.785608",
     "status": "completed"
    },
    "tags": []
   },
   "outputs": [
    {
     "name": "stdout",
     "output_type": "stream",
     "text": [
      "Epoch 1/10\n",
      "140/140 [==============================] - 7s 47ms/step - loss: 0.3871 - acc: 0.8694 - val_loss: 0.2567 - val_acc: 0.9233\n",
      "Epoch 2/10\n",
      "140/140 [==============================] - 5s 33ms/step - loss: 0.1370 - acc: 0.9763 - val_loss: 0.1600 - val_acc: 0.9601\n",
      "Epoch 3/10\n",
      "140/140 [==============================] - 5s 35ms/step - loss: 0.1499 - acc: 0.9639 - val_loss: 0.1187 - val_acc: 0.9743\n",
      "Epoch 4/10\n",
      "140/140 [==============================] - 5s 33ms/step - loss: 0.0746 - acc: 0.9877 - val_loss: 0.0931 - val_acc: 0.9799\n",
      "Epoch 5/10\n",
      "140/140 [==============================] - 5s 36ms/step - loss: 0.0562 - acc: 0.9898 - val_loss: 0.0699 - val_acc: 0.9850\n",
      "Epoch 6/10\n",
      "140/140 [==============================] - 5s 36ms/step - loss: 0.0254 - acc: 0.9960 - val_loss: 0.0896 - val_acc: 0.9883\n",
      "Epoch 7/10\n",
      "140/140 [==============================] - 5s 39ms/step - loss: 0.0515 - acc: 0.9914 - val_loss: 0.1344 - val_acc: 0.9693\n",
      "Epoch 8/10\n",
      "140/140 [==============================] - 5s 35ms/step - loss: 0.0652 - acc: 0.9883 - val_loss: 0.1240 - val_acc: 0.9814\n",
      "Epoch 9/10\n",
      "140/140 [==============================] - 5s 33ms/step - loss: 0.0257 - acc: 0.9964 - val_loss: 0.1263 - val_acc: 0.9837\n",
      "Epoch 10/10\n",
      "140/140 [==============================] - 5s 35ms/step - loss: 0.0180 - acc: 0.9977 - val_loss: 0.1051 - val_acc: 0.9854\n"
     ]
    },
    {
     "data": {
      "text/plain": [
       "<tensorflow.python.keras.callbacks.History at 0x7fe7dc6c8250>"
      ]
     },
     "execution_count": 26,
     "metadata": {},
     "output_type": "execute_result"
    }
   ],
   "source": [
    "model2.fit(X_train, y_train, validation_data=(X_test, y_test), epochs=10, batch_size=32)"
   ]
  },
  {
   "cell_type": "markdown",
   "metadata": {
    "papermill": {
     "duration": 0.485731,
     "end_time": "2020-12-05T07:35:06.280745",
     "exception": false,
     "start_time": "2020-12-05T07:35:05.795014",
     "status": "completed"
    },
    "tags": []
   },
   "source": [
    "Let us compare the performance of both the models."
   ]
  },
  {
   "cell_type": "code",
   "execution_count": 27,
   "metadata": {
    "execution": {
     "iopub.execute_input": "2020-12-05T07:35:07.259723Z",
     "iopub.status.busy": "2020-12-05T07:35:07.258876Z",
     "iopub.status.idle": "2020-12-05T07:35:07.536225Z",
     "shell.execute_reply": "2020-12-05T07:35:07.536899Z"
    },
    "papermill": {
     "duration": 0.775961,
     "end_time": "2020-12-05T07:35:07.537048",
     "exception": false,
     "start_time": "2020-12-05T07:35:06.761087",
     "status": "completed"
    },
    "tags": []
   },
   "outputs": [
    {
     "data": {
      "image/png": "[encoded data removed]",
      "text/plain": [
       "<Figure size 432x288 with 1 Axes>"
      ]
     },
     "metadata": {
      "needs_background": "light"
     },
     "output_type": "display_data"
    }
   ],
   "source": [
    "metrics1 = pd.DataFrame(model.history.history)\n",
    "metrics2 = pd.DataFrame(model2.history.history)\n",
    "metrics1['val_acc'].plot(label='Pre Trained')\n",
    "metrics2['val_acc'].plot(label='Trained')\n",
    "plt.title(\"Training and Validation Accuracy\")\n",
    "plt.legend()\n",
    "plt.show()"
   ]
  },
  {
   "cell_type": "markdown",
   "metadata": {
    "papermill": {
     "duration": 0.53844,
     "end_time": "2020-12-05T07:35:08.562201",
     "exception": false,
     "start_time": "2020-12-05T07:35:08.023761",
     "status": "completed"
    },
    "tags": []
   },
   "source": [
    "# Glove\n",
    "And now we will see how to use pre-trained Glove.<br>\n",
    "First, we will read our Glove file and will create a dictionary using it. The dictionary will contain words as keys and its vector representation as values."
   ]
  },
  {
   "cell_type": "code",
   "execution_count": 28,
   "metadata": {
    "execution": {
     "iopub.execute_input": "2020-12-05T07:35:09.566597Z",
     "iopub.status.busy": "2020-12-05T07:35:09.565773Z",
     "iopub.status.idle": "2020-12-05T07:35:30.133324Z",
     "shell.execute_reply": "2020-12-05T07:35:30.132648Z"
    },
    "papermill": {
     "duration": 21.088236,
     "end_time": "2020-12-05T07:35:30.133499",
     "exception": false,
     "start_time": "2020-12-05T07:35:09.045263",
     "status": "completed"
    },
    "tags": []
   },
   "outputs": [
    {
     "name": "stdout",
     "output_type": "stream",
     "text": [
      "Found 400000 word vectors\n"
     ]
    }
   ],
   "source": [
    "embedding_index={}\n",
    "embedding_dim = 100\n",
    "with open('glove-global-vectors-for-word-representation/glove.6B.100d.txt','r') as f:\n",
    "    for line in f:\n",
    "        values = line.split()\n",
    "        word = values[0]\n",
    "        coefs = np.asarray(values[1:], dtype='float32')\n",
    "        embedding_index[word] = coefs\n",
    "    f.close()\n",
    "\n",
    "print('Found %s word vectors' % len(embedding_index))"
   ]
  },
  {
   "cell_type": "markdown",
   "metadata": {
    "papermill": {
     "duration": 0.504338,
     "end_time": "2020-12-05T07:35:31.131884",
     "exception": false,
     "start_time": "2020-12-05T07:35:30.627546",
     "status": "completed"
    },
    "tags": []
   },
   "source": [
    "Now again we have to build our Embedding layer and for that we first create our embedding matrix in a similar way we previously did."
   ]
  },
  {
   "cell_type": "code",
   "execution_count": 29,
   "metadata": {
    "execution": {
     "iopub.execute_input": "2020-12-05T07:35:32.118736Z",
     "iopub.status.busy": "2020-12-05T07:35:32.117868Z",
     "iopub.status.idle": "2020-12-05T07:35:32.140670Z",
     "shell.execute_reply": "2020-12-05T07:35:32.140148Z"
    },
    "papermill": {
     "duration": 0.516368,
     "end_time": "2020-12-05T07:35:32.140779",
     "exception": false,
     "start_time": "2020-12-05T07:35:31.624411",
     "status": "completed"
    },
    "tags": []
   },
   "outputs": [
    {
     "name": "stdout",
     "output_type": "stream",
     "text": [
      "6281\n"
     ]
    }
   ],
   "source": [
    "embedding_matrix2 = np.zeros((vocab_size, embedding_dim))\n",
    "c= 0\n",
    "for word, i in word_index.items():\n",
    "    embedding_vector2 = embedding_index.get(word)\n",
    "    if embedding_vector2 is not None:\n",
    "        c=c+1\n",
    "        embedding_matrix2[i] = embedding_vector2\n",
    "print(c)"
   ]
  },
  {
   "cell_type": "markdown",
   "metadata": {
    "papermill": {
     "duration": 0.489409,
     "end_time": "2020-12-05T07:35:33.123483",
     "exception": false,
     "start_time": "2020-12-05T07:35:32.634074",
     "status": "completed"
    },
    "tags": []
   },
   "source": [
    "Then we create our embedding layer."
   ]
  },
  {
   "cell_type": "code",
   "execution_count": 30,
   "metadata": {
    "execution": {
     "iopub.execute_input": "2020-12-05T07:35:34.364539Z",
     "iopub.status.busy": "2020-12-05T07:35:34.362475Z",
     "iopub.status.idle": "2020-12-05T07:35:34.365324Z",
     "shell.execute_reply": "2020-12-05T07:35:34.365870Z"
    },
    "papermill": {
     "duration": 0.745708,
     "end_time": "2020-12-05T07:35:34.365994",
     "exception": false,
     "start_time": "2020-12-05T07:35:33.620286",
     "status": "completed"
    },
    "tags": []
   },
   "outputs": [],
   "source": [
    "embedding_layer2 = Embedding(vocab_size, \n",
    "                            embedding_dim, \n",
    "                            weights=[embedding_matrix2], \n",
    "                            input_length = max_len, \n",
    "                            trainable=False)"
   ]
  },
  {
   "cell_type": "markdown",
   "metadata": {
    "papermill": {
     "duration": 0.50302,
     "end_time": "2020-12-05T07:35:35.386703",
     "exception": false,
     "start_time": "2020-12-05T07:35:34.883683",
     "status": "completed"
    },
    "tags": []
   },
   "source": [
    "Again we will use that same model and here we will use our new embedding layer."
   ]
  },
  {
   "cell_type": "code",
   "execution_count": 31,
   "metadata": {
    "execution": {
     "iopub.execute_input": "2020-12-05T07:35:36.419245Z",
     "iopub.status.busy": "2020-12-05T07:35:36.418157Z",
     "iopub.status.idle": "2020-12-05T07:35:37.460295Z",
     "shell.execute_reply": "2020-12-05T07:35:37.459438Z"
    },
    "papermill": {
     "duration": 1.557005,
     "end_time": "2020-12-05T07:35:37.460421",
     "exception": false,
     "start_time": "2020-12-05T07:35:35.903416",
     "status": "completed"
    },
    "tags": []
   },
   "outputs": [],
   "source": [
    "model3 = Sequential()\n",
    "model3.add(embedding_layer2)\n",
    "model3.add(Dropout(0.2))\n",
    "model3.add(Bidirectional(LSTM(100, return_sequences = True)))\n",
    "model3.add(Dropout(0.2))\n",
    "model3.add(Bidirectional(LSTM(100, return_sequences = True)))\n",
    "model3.add(Dense(1024, activation='relu'))\n",
    "model3.add(Dropout(0.2))\n",
    "model3.add(Dense(1024, activation='relu'))\n",
    "model3.add(Dropout(0.2))\n",
    "model3.add(Dense(1, activation='sigmoid'))"
   ]
  },
  {
   "cell_type": "code",
   "execution_count": 32,
   "metadata": {
    "execution": {
     "iopub.execute_input": "2020-12-05T07:35:38.472529Z",
     "iopub.status.busy": "2020-12-05T07:35:38.471617Z",
     "iopub.status.idle": "2020-12-05T07:35:38.484320Z",
     "shell.execute_reply": "2020-12-05T07:35:38.483796Z"
    },
    "papermill": {
     "duration": 0.522871,
     "end_time": "2020-12-05T07:35:38.484474",
     "exception": false,
     "start_time": "2020-12-05T07:35:37.961603",
     "status": "completed"
    },
    "tags": []
   },
   "outputs": [
    {
     "name": "stdout",
     "output_type": "stream",
     "text": [
      "Model: \"sequential_2\"\n",
      "_________________________________________________________________\n",
      "Layer (type)                 Output Shape              Param #   \n",
      "=================================================================\n",
      "embedding_2 (Embedding)      (None, 77, 100)           764200    \n",
      "_________________________________________________________________\n",
      "dropout_8 (Dropout)          (None, 77, 100)           0         \n",
      "_________________________________________________________________\n",
      "bidirectional_4 (Bidirection (None, 77, 200)           160800    \n",
      "_________________________________________________________________\n",
      "dropout_9 (Dropout)          (None, 77, 200)           0         \n",
      "_________________________________________________________________\n",
      "bidirectional_5 (Bidirection (None, 77, 200)           240800    \n",
      "_________________________________________________________________\n",
      "dense_6 (Dense)              (None, 77, 1024)          205824    \n",
      "_________________________________________________________________\n",
      "dropout_10 (Dropout)         (None, 77, 1024)          0         \n",
      "_________________________________________________________________\n",
      "dense_7 (Dense)              (None, 77, 1024)          1049600   \n",
      "_________________________________________________________________\n",
      "dropout_11 (Dropout)         (None, 77, 1024)          0         \n",
      "_________________________________________________________________\n",
      "dense_8 (Dense)              (None, 77, 1)             1025      \n",
      "=================================================================\n",
      "Total params: 2,422,249\n",
      "Trainable params: 1,658,049\n",
      "Non-trainable params: 764,200\n",
      "_________________________________________________________________\n"
     ]
    }
   ],
   "source": [
    "model3.summary()"
   ]
  },
  {
   "cell_type": "code",
   "execution_count": 33,
   "metadata": {
    "execution": {
     "iopub.execute_input": "2020-12-05T07:35:39.494267Z",
     "iopub.status.busy": "2020-12-05T07:35:39.493258Z",
     "iopub.status.idle": "2020-12-05T07:35:39.500190Z",
     "shell.execute_reply": "2020-12-05T07:35:39.501172Z"
    },
    "papermill": {
     "duration": 0.511799,
     "end_time": "2020-12-05T07:35:39.501304",
     "exception": false,
     "start_time": "2020-12-05T07:35:38.989505",
     "status": "completed"
    },
    "tags": []
   },
   "outputs": [],
   "source": [
    "model3.compile(optimizer='Adam', loss = 'binary_crossentropy', metrics=['acc'])"
   ]
  },
  {
   "cell_type": "code",
   "execution_count": 34,
   "metadata": {
    "execution": {
     "iopub.execute_input": "2020-12-05T07:35:40.477755Z",
     "iopub.status.busy": "2020-12-05T07:35:40.476735Z",
     "iopub.status.idle": "2020-12-05T07:36:26.773005Z",
     "shell.execute_reply": "2020-12-05T07:36:26.773658Z"
    },
    "papermill": {
     "duration": 46.788364,
     "end_time": "2020-12-05T07:36:26.773843",
     "exception": false,
     "start_time": "2020-12-05T07:35:39.985479",
     "status": "completed"
    },
    "tags": []
   },
   "outputs": [
    {
     "name": "stdout",
     "output_type": "stream",
     "text": [
      "Epoch 1/10\n",
      "140/140 [==============================] - 5s 38ms/step - loss: 0.2163 - acc: 0.9301 - val_loss: 0.1154 - val_acc: 0.9617\n",
      "Epoch 2/10\n",
      "140/140 [==============================] - 4s 30ms/step - loss: 0.1248 - acc: 0.9698 - val_loss: 0.1553 - val_acc: 0.9633\n",
      "Epoch 3/10\n",
      "140/140 [==============================] - 4s 26ms/step - loss: 0.1252 - acc: 0.9663 - val_loss: 0.1999 - val_acc: 0.9490\n",
      "Epoch 4/10\n",
      "140/140 [==============================] - 4s 26ms/step - loss: 0.1476 - acc: 0.9566 - val_loss: 0.1508 - val_acc: 0.9605\n",
      "Epoch 5/10\n",
      "140/140 [==============================] - 4s 27ms/step - loss: 0.1653 - acc: 0.9515 - val_loss: 0.1181 - val_acc: 0.9583\n",
      "Epoch 6/10\n",
      "140/140 [==============================] - 4s 28ms/step - loss: 0.2025 - acc: 0.9462 - val_loss: 0.3202 - val_acc: 0.9000\n",
      "Epoch 7/10\n",
      "140/140 [==============================] - 4s 26ms/step - loss: 0.1565 - acc: 0.9518 - val_loss: 0.1409 - val_acc: 0.9595\n",
      "Epoch 8/10\n",
      "140/140 [==============================] - 4s 28ms/step - loss: 0.1201 - acc: 0.9698 - val_loss: 0.1150 - val_acc: 0.9709\n",
      "Epoch 9/10\n",
      "140/140 [==============================] - 4s 26ms/step - loss: 0.0967 - acc: 0.9765 - val_loss: 0.1004 - val_acc: 0.9722\n",
      "Epoch 10/10\n",
      "140/140 [==============================] - 4s 28ms/step - loss: 0.1103 - acc: 0.9684 - val_loss: 0.1314 - val_acc: 0.9487\n"
     ]
    },
    {
     "data": {
      "text/plain": [
       "<tensorflow.python.keras.callbacks.History at 0x7fe3aa728090>"
      ]
     },
     "execution_count": 34,
     "metadata": {},
     "output_type": "execute_result"
    }
   ],
   "source": [
    "model3.fit(X_train, y_train, validation_data=(X_test, y_test), epochs=10, batch_size=32)"
   ]
  },
  {
   "cell_type": "code",
   "execution_count": 35,
   "metadata": {
    "execution": {
     "iopub.execute_input": "2020-12-05T07:36:28.111298Z",
     "iopub.status.busy": "2020-12-05T07:36:28.110458Z",
     "iopub.status.idle": "2020-12-05T07:36:28.113562Z",
     "shell.execute_reply": "2020-12-05T07:36:28.113081Z"
    },
    "papermill": {
     "duration": 0.667038,
     "end_time": "2020-12-05T07:36:28.113716",
     "exception": false,
     "start_time": "2020-12-05T07:36:27.446678",
     "status": "completed"
    },
    "tags": []
   },
   "outputs": [],
   "source": [
    "metrics3 = pd.DataFrame(model3.history.history)"
   ]
  },
  {
   "cell_type": "markdown",
   "metadata": {
    "papermill": {
     "duration": 0.852524,
     "end_time": "2020-12-05T07:36:29.707916",
     "exception": false,
     "start_time": "2020-12-05T07:36:28.855392",
     "status": "completed"
    },
    "tags": []
   },
   "source": [
    "Let us compare both the pre-trained models."
   ]
  },
  {
   "cell_type": "code",
   "execution_count": 36,
   "metadata": {
    "execution": {
     "iopub.execute_input": "2020-12-05T07:36:31.082654Z",
     "iopub.status.busy": "2020-12-05T07:36:31.081629Z",
     "iopub.status.idle": "2020-12-05T07:36:31.255455Z",
     "shell.execute_reply": "2020-12-05T07:36:31.255994Z"
    },
    "papermill": {
     "duration": 0.878949,
     "end_time": "2020-12-05T07:36:31.256133",
     "exception": false,
     "start_time": "2020-12-05T07:36:30.377184",
     "status": "completed"
    },
    "tags": []
   },
   "outputs": [
    {
     "data": {
      "image/png": "[encoded data removed]",
      "text/plain": [
       "<Figure size 432x288 with 1 Axes>"
      ]
     },
     "metadata": {
      "needs_background": "light"
     },
     "output_type": "display_data"
    }
   ],
   "source": [
    "metrics1['acc'].plot(label='Word2Vec')\n",
    "metrics3['acc'].plot(label='Glove')\n",
    "plt.title(\"Training and Accuracy\")\n",
    "plt.legend()\n",
    "plt.show()"
   ]
  },
  {
   "cell_type": "markdown",
   "metadata": {
    "papermill": {
     "duration": 0.664405,
     "end_time": "2020-12-05T07:36:32.642728",
     "exception": false,
     "start_time": "2020-12-05T07:36:31.978323",
     "status": "completed"
    },
    "tags": []
   },
   "source": [
    "Here we can observe some difference because our Word2Vec model has embedding layer with 300 dimensions whereas our Glove model has embedding layer with 100 dimensions. That is why Word2Vec model is performing better than Glove model."
   ]
  },
  {
   "cell_type": "markdown",
   "metadata": {
    "papermill": {
     "duration": 0.66107,
     "end_time": "2020-12-05T07:36:34.010550",
     "exception": false,
     "start_time": "2020-12-05T07:36:33.349480",
     "status": "completed"
    },
    "tags": []
   },
   "source": [
    "# Summary"
   ]
  },
  {
   "cell_type": "markdown",
   "metadata": {
    "papermill": {
     "duration": 0.666615,
     "end_time": "2020-12-05T07:36:35.350366",
     "exception": false,
     "start_time": "2020-12-05T07:36:34.683751",
     "status": "completed"
    },
    "tags": []
   },
   "source": [
    "This was all about Word2Vec and Glove. These are very useful for NLP tasks and it works very well for a very large dataset.<br>\n",
    "I hope now you will also be able to apply this techniques in your dataset.<br>\n",
    "Again, I would like to tell if you want to know some more different approaches for NLP problems, you can refer my another notebook:- [click here](https://github.com/Printutcarsh/Complete-NLP-notebook--spam-message-classifier)\n",
    "\n",
    "<h1 align='center'> THANK YOU VERY MUCH FOR READING!</h1>"
   ]
  }
 ],
 "metadata": {
  "kernelspec": {
   "display_name": "Python 3",
   "language": "python",
   "name": "python3"
  },
  "language_info": {
   "codemirror_mode": {
    "name": "ipython",
    "version": 3
   },
   "file_extension": ".py",
   "mimetype": "text/x-python",
   "name": "python",
   "nbconvert_exporter": "python",
   "pygments_lexer": "ipython3",
   "version": "3.7.6"
  },
  "papermill": {
   "duration": 303.350683,
   "end_time": "2020-12-05T07:36:37.750619",
   "environment_variables": {},
   "exception": null,
   "input_path": "__notebook__.ipynb",
   "output_path": "__notebook__.ipynb",
   "parameters": {},
   "start_time": "2020-12-05T07:31:34.399936",
   "version": "2.1.0"
  }
 },
 "nbformat": 4,
 "nbformat_minor": 4
}
